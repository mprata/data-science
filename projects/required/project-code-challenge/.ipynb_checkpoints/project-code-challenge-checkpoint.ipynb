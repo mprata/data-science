{
 "cells": [
  {
   "cell_type": "markdown",
   "metadata": {},
   "source": [
    "<img src=\"http://imgur.com/1ZcRyrc.png\" style=\"float: left; margin: 20px; height: 55px\">\n",
    "\n",
    "# Project 1: Python Coding Exercises\n",
    "\n",
    "_Authors: Joseph Nelson (DC) _\n",
    "\n",
    "---"
   ]
  },
  {
   "cell_type": "markdown",
   "metadata": {},
   "source": [
    "The following code challenges are drawn from common exercises used in technical interviews.\n",
    "\n",
    "Please note that there may be several ways to approach each challenge. If you get stuck, try mapping out your approach in pseudocode first. Finally, while solutions to problems like these may be found online, remember that if you copy/paste code that you can't explain, you'll be missing out on the point of the project. The only way to truly learn a new skill is through practice, trial, and error - we can only help you improve by understanding where you are having trouble."
   ]
  },
  {
   "cell_type": "markdown",
   "metadata": {},
   "source": [
    "### Challenge 1: Largest Palindrome\n",
    "A palindromic number reads the same both ways. For example, 1234321 is a palindrome. The largest palindrome made from the product of two two-digit numbers is 9009 = 91 × 99. Find the largest palindrome made from the product of two three-digit numbers. Afterward, write a brief explanation walking through your code's logic in markdown."
   ]
  },
  {
   "cell_type": "code",
   "execution_count": 5,
   "metadata": {},
   "outputs": [
    {
     "name": "stdout",
     "output_type": "stream",
     "text": [
      "Largest palindrome is product of numbers 993 and 913 and the palindrome is 906609\n"
     ]
    }
   ],
   "source": [
    "#returns the reverse of the passed number to this function.\n",
    "def getReverse(number):\n",
    "    reverse = 0\n",
    "    #using the simple mathematical function here\n",
    "    #ex 999 => 9 -> 90 + 9 -> 990 + 9 which is 999 -> reverse of 999\n",
    "    #ex 984 => 4 -> 40 + 8 -> 480 + 9 which is 489 -> reverse of 984\n",
    "    while(number != 0):\n",
    "        reverse = reverse * 10 + number % 10\n",
    "        number = number // 10\n",
    "    return reverse\n",
    "\n",
    "def largestPalindrome3Digit():\n",
    "    #as we already know we have to find palindrome of product of 2 three digit numbers\n",
    "    #largest possible 3 digit number is 999\n",
    "    largest_number = 999\n",
    "    #let's initiate largest product with 0\n",
    "    largest_product = 0\n",
    "    product_of = ''\n",
    "    #now we need to consider all possible scenarios of 3 digit numbers. It should go up to lowest possible\n",
    "    #3 digit numner which is 100\n",
    "    for outer_num in range(largest_number, 99, -1):\n",
    "        #now we need to multiply number from outer loop to all possible 3 digit numbers\n",
    "        #so we'll run a inner loop from outer number to 100\n",
    "        for inner_num in range(outer_num, 99, -1):\n",
    "            product = outer_num * inner_num\n",
    "            #get out of the loop as soon as we find lesser product than we already have with us\n",
    "            if product < largest_number:\n",
    "                break;\n",
    "            reverse = getReverse(product)\n",
    "            #check if the number is palindrome and if it is a palindrome and \n",
    "            # greater than already known largest_product then we update largest_product\n",
    "            if (product == reverse and product > largest_product):\n",
    "                product_of = \"Largest palindrome is product of numbers {} and {}\".format(outer_num, inner_num)\n",
    "                largest_product = product\n",
    "    return product_of, largest_product\n",
    "result = largestPalindrome3Digit()\n",
    "print(\"{} and the palindrome is {}\".format(result[0], result[1]))"
   ]
  },
  {
   "cell_type": "markdown",
   "metadata": {},
   "source": [
    "Here function largestPalindrome3Digit takes care of finding largest possible palindrome of product of 2 three digit numbers.\n",
    "\n",
    "Largest possible 3 digit number is 999. We have to find out largest palindrome of product of 2 three digit numbers, so we need to start with 999. Now we'll use 2 loops. Outher loop will start with 999 to lowest 3 digit number which is 100. Inner loop will run from current outer loop number to 100. We'll miltiply values from outer loop and inner loop to find out the product. \n",
    "\n",
    "We'll initialize largest product with 0. Then as the loop runs we'll figure out the largest possible palindrome.\n",
    "Please go through inline comments for more detailed information."
   ]
  },
  {
   "cell_type": "markdown",
   "metadata": {},
   "source": [
    "\n",
    "### Challenge 2: Summation of Primes\n",
    "The sum of the primes below 10 is 2 + 3 + 5 + 7 = 17. Find the sum of all the primes below 2,000. Afterward, write a brief explanation walking through your code's logic in markdown."
   ]
  },
  {
   "cell_type": "code",
   "execution_count": 6,
   "metadata": {},
   "outputs": [
    {
     "name": "stdout",
     "output_type": "stream",
     "text": [
      "277050\n"
     ]
    }
   ],
   "source": [
    "# check if a number is prime\n",
    "def isPrime(number):\n",
    "    if number <= 1:\n",
    "        return False\n",
    "    # now we are checking if this number is divisible by any other number less than it and greater than 1\n",
    "    for i in range (2, number):\n",
    "        if number % i == 0:\n",
    "            return False\n",
    "    # function will reach this condition only if number was not divisble by any smaller number\n",
    "    return True\n",
    "\n",
    "def getSumPrimesBelow2000():\n",
    "    sum = 0\n",
    "    number = 2\n",
    "    # Loop through all numbers from 2 to less than 2000\n",
    "    while (number < 2000):\n",
    "        if isPrime(number):\n",
    "            sum = sum + number\n",
    "        number = number + 1\n",
    "    return sum\n",
    "print(getSumPrimesBelow2000())"
   ]
  },
  {
   "cell_type": "markdown",
   "metadata": {},
   "source": [
    "Prime number is a number which is divisble by either 1 or itself. If it is divisible by any other number smaller than itself, it's not prime.\n",
    "\n",
    "I have written a function which checks if the given number is prime or not and returns True/False. In this function, I loop through all numbers staring from 2 to number - 1 and checking if passed number is divisble any smaller number. If it is then this function will return False otherwise it will return True.\n",
    "\n",
    "In the main function, i loop through all numbers from 2 to 2000 and add them to sum, if current number in loop step is prime."
   ]
  },
  {
   "cell_type": "markdown",
   "metadata": {},
   "source": [
    "### Challenge 3: Multiples of 3 and 5\n",
    "If we list all of the natural numbers below 10 that are multiples of 3 or 5, we get 3, 5, 6, and 9. The sum of these multiples is 23. Find the sum of all the multiples of 3 and 5 below 1,000. Afterward, write a brief explanation walking through your code's logic in markdown."
   ]
  },
  {
   "cell_type": "code",
   "execution_count": 8,
   "metadata": {},
   "outputs": [
    {
     "name": "stdout",
     "output_type": "stream",
     "text": [
      "233168\n"
     ]
    }
   ],
   "source": [
    "def getSum():\n",
    "    sum = 0\n",
    "    number = 1\n",
    "    # Loop through all numbers from 1 to less than 2000\n",
    "    while (number < 1000):\n",
    "        # check if number is divisble by 3 or 5. if it is then add it in sum\n",
    "        if (number % 3 == 0 or number % 5 == 0):\n",
    "            sum = sum + number\n",
    "        number = number + 1\n",
    "    return sum\n",
    "print(getSum())"
   ]
  },
  {
   "cell_type": "markdown",
   "metadata": {},
   "source": [
    "We have to find sum of all numbers which are multiples of 3 or 5 below 1000.\n",
    "\n",
    "I am running a loop from 1 to 999 and checking if number is divisble by 3 or 5. If it is then add it in final sum.\n",
    "\n",
    "Finally when the loop completes, i return the sum."
   ]
  },
  {
   "cell_type": "markdown",
   "metadata": {},
   "source": [
    "### Challenge 4: String Compressor\n",
    "Implement a method to perform basic string compression using the counts of repeated characters. (This is called run-length encoding.) For example, the string \"aabcccccaaa\" would become a2b1c5a3. If the “compressed” string would not become smaller than the original string, your method should return the original string. You can assume the string has only uppercase and lowercase letters (a–z). Specify whether your solution is case sensitive or case insensitive and what you would need to change to make it the other. Afterward, write a brief explanation walking through your code's logic in markdown."
   ]
  },
  {
   "cell_type": "code",
   "execution_count": 35,
   "metadata": {},
   "outputs": [
    {
     "name": "stdout",
     "output_type": "stream",
     "text": [
      "Case sensitive solution ->  aabbHHhhJJjjkk\n",
      "Case in-sensitive solution ->  a2b2h4j4k2\n",
      "Case sensitive solution ->  aAabBbcdeEfFfgh\n",
      "Case in-sensitive solution ->  aaabbbcdeefffgh\n",
      "Case sensitive solution ->  abcdefgh\n",
      "Case in-sensitive solution ->  abcdefgh\n",
      "Case sensitive solution ->  aAaAaAaAaAaAaAaA\n",
      "Case in-sensitive solution ->  a16\n",
      "Case sensitive solution ->  a2b1c5a3\n",
      "Case in-sensitive solution ->  a2b1c5a3\n"
     ]
    }
   ],
   "source": [
    "# Solution taking in account case sensitivity\n",
    "def compressStr(val, is_case_insensitive):\n",
    "    result_str = ''\n",
    "    # check here if string is empty or None. We are returning empty if this condition satisfies\n",
    "    if val is None or val == '':\n",
    "        return result_str\n",
    "    if is_case_insensitive:\n",
    "        val = val.lower()\n",
    "    # intialize count to 0 and initialize default previuos value a empty string\n",
    "    count, previous = 0, ''\n",
    "    # now let's loop through charcters of passed string\n",
    "    for char in val:\n",
    "        # compare current character in string with previuos character and if it matches increase the count by 1\n",
    "        if char == previous:\n",
    "            count = count + 1\n",
    "        # if above condition does not match that means new character has come\n",
    "        # we reset the value of count to 1 as this character has appeared first time and set value of previous\n",
    "        # to current character\n",
    "        else:\n",
    "            if count != 0:\n",
    "                result_str = result_str + previous + str(count)\n",
    "            count = 1\n",
    "            previous = char\n",
    "    result_str = result_str + previous + str(count)\n",
    "    # Now we compare passed string with result string\n",
    "    # If result String is lesser in length than passed string then we return result string otherwise we return the\n",
    "    # input string from user\n",
    "    if len(val) <= len(result_str):\n",
    "        return val\n",
    "    else:\n",
    "        return result_str\n",
    "    \n",
    "print(\"Case sensitive solution -> \", compressStr('aabbHHhhJJjjkk', False))\n",
    "print(\"Case in-sensitive solution -> \", compressStr('aabbHHhhJJjjkk', True))\n",
    "\n",
    "print(\"Case sensitive solution -> \", compressStr('aAabBbcdeEfFfgh', False))\n",
    "print(\"Case in-sensitive solution -> \", compressStr('aAabBbcdeEfFfgh', True))\n",
    "\n",
    "print(\"Case sensitive solution -> \", compressStr('abcdefgh', False))\n",
    "print(\"Case in-sensitive solution -> \", compressStr('abcdefgh', True))\n",
    "\n",
    "print(\"Case sensitive solution -> \", compressStr('aAaAaAaAaAaAaAaA', False))\n",
    "print(\"Case in-sensitive solution -> \", compressStr('aAaAaAaAaAaAaAaA', True))\n",
    "\n",
    "print(\"Case sensitive solution -> \", compressStr('aabcccccaaa', False))\n",
    "print(\"Case in-sensitive solution -> \", compressStr('aabcccccaaa', True))"
   ]
  },
  {
   "cell_type": "markdown",
   "metadata": {},
   "source": [
    "Function compressStr takes a string and is_case_insensitive boolean as arguments. I am controling case sensitivity with flag is_case_insensitive. If is_case_insensitive is True then I convert the whole string to lower case(we can convert it to uper case also based on our use case).\n",
    "\n",
    "Then I create 2 variables, one for keeping the count of repeating characters and other one for keeping the previous value in loop.\n",
    "\n",
    "now let's loop through charcters of passed string. compare current character in string with previuos character and if it matches increase the count by 1. if above condition does not match that means new character has come we reset the value of count to 1 as this character has appeared first time and set value of previous to current character. \n",
    "\n",
    "Now we compare passed string with result string. If result String is lesser in length than passed string then we return result string otherwise we return the input string from user.\n",
    "\n"
   ]
  },
  {
   "cell_type": "markdown",
   "metadata": {},
   "source": [
    "### *BONUS* Challenge: FizzBuzz\n",
    "Write a program that prints all of the numbers from 1 to 100. For multiples of 3, instead of the number, print \"Fizz;\" for multiples of 5, print \"Buzz.\" For numbers that are multiples of both 3 and 5, print \"FizzBuzz.\" Afterward, write a brief explanation walking through your code's logic in markdown."
   ]
  },
  {
   "cell_type": "code",
   "execution_count": 37,
   "metadata": {},
   "outputs": [
    {
     "name": "stdout",
     "output_type": "stream",
     "text": [
      "1\n",
      "2\n",
      "Fizz\n",
      "4\n",
      "Buzz\n",
      "Fizz\n",
      "7\n",
      "8\n",
      "Fizz\n",
      "Buzz\n",
      "11\n",
      "Fizz\n",
      "13\n",
      "14\n",
      "FizzBuzz\n",
      "16\n",
      "17\n",
      "Fizz\n",
      "19\n",
      "Buzz\n",
      "Fizz\n",
      "22\n",
      "23\n",
      "Fizz\n",
      "Buzz\n",
      "26\n",
      "Fizz\n",
      "28\n",
      "29\n",
      "FizzBuzz\n",
      "31\n",
      "32\n",
      "Fizz\n",
      "34\n",
      "Buzz\n",
      "Fizz\n",
      "37\n",
      "38\n",
      "Fizz\n",
      "Buzz\n",
      "41\n",
      "Fizz\n",
      "43\n",
      "44\n",
      "FizzBuzz\n",
      "46\n",
      "47\n",
      "Fizz\n",
      "49\n",
      "Buzz\n",
      "Fizz\n",
      "52\n",
      "53\n",
      "Fizz\n",
      "Buzz\n",
      "56\n",
      "Fizz\n",
      "58\n",
      "59\n",
      "FizzBuzz\n",
      "61\n",
      "62\n",
      "Fizz\n",
      "64\n",
      "Buzz\n",
      "Fizz\n",
      "67\n",
      "68\n",
      "Fizz\n",
      "Buzz\n",
      "71\n",
      "Fizz\n",
      "73\n",
      "74\n",
      "FizzBuzz\n",
      "76\n",
      "77\n",
      "Fizz\n",
      "79\n",
      "Buzz\n",
      "Fizz\n",
      "82\n",
      "83\n",
      "Fizz\n",
      "Buzz\n",
      "86\n",
      "Fizz\n",
      "88\n",
      "89\n",
      "FizzBuzz\n",
      "91\n",
      "92\n",
      "Fizz\n",
      "94\n",
      "Buzz\n",
      "Fizz\n",
      "97\n",
      "98\n",
      "Fizz\n",
      "Buzz\n"
     ]
    }
   ],
   "source": [
    "# run a loop from 1 to 100\n",
    "for i in range(1, 101):\n",
    "    # check if number is divisble by both 3 and 5 and if it is print \"FizzBuzz\"\n",
    "    if (i % 3 == 0) and (i % 5) == 0:\n",
    "        print(\"FizzBuzz\")\n",
    "    # check if number is divisble by only 3 and if it is print \"Fizz\"\n",
    "    elif i % 3 == 0:\n",
    "        print(\"Fizz\")\n",
    "    # check if number is divisble by only 5 and if it is print \"Buzz\"\n",
    "    elif i % 5 == 0:\n",
    "        print(\"Buzz\")\n",
    "    # else just print the number\n",
    "    else:\n",
    "        print(i)"
   ]
  },
  {
   "cell_type": "code",
   "execution_count": null,
   "metadata": {},
   "outputs": [],
   "source": []
  }
 ],
 "metadata": {
  "anaconda-cloud": {},
  "kernelspec": {
   "display_name": "Python 3",
   "language": "python",
   "name": "python3"
  },
  "language_info": {
   "codemirror_mode": {
    "name": "ipython",
    "version": 3
   },
   "file_extension": ".py",
   "mimetype": "text/x-python",
   "name": "python",
   "nbconvert_exporter": "python",
   "pygments_lexer": "ipython3",
   "version": "3.7.4"
  }
 },
 "nbformat": 4,
 "nbformat_minor": 2
}
