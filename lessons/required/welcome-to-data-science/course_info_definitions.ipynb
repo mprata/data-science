{
 "cells": [
  {
   "cell_type": "markdown",
   "metadata": {
    "slideshow": {
     "slide_type": "notes"
    }
   },
   "source": [
    "> **Jupyter slideshow:** This notebook can be displayed as slides. To view it as a slideshow in your browser, type following in the console:\n",
    " \n",
    " \n",
    "> `> jupyter nbconvert [this_notebook.ipynb] --to slides --post serve`\n",
    " \n",
    " \n",
    "> To toggle off the slideshow cell formatting, click the `CellToolbar` button, then `View > Cell Toolbar > None`.\n",
    "\n",
    "For more help, check out [this tutorial](https://drive.google.com/open?id=17q01buf7YFuB4yF8cFjmnc_ZARQWOljGhlHs99i9X0c)."
   ]
  },
  {
   "cell_type": "markdown",
   "metadata": {
    "slideshow": {
     "slide_type": "slide"
    }
   },
   "source": [
    "<img src=\"http://imgur.com/1ZcRyrc.png\" style=\"float: left; margin: 20px; height: 55px\">\n",
    " \n",
    "# What is Data Science?\n",
    " \n",
    "_Authors: Alexander Egorenkov (DC), Amy Roberts (NYC)_\n",
    " \n",
    "---\n"
   ]
  },
  {
   "cell_type": "markdown",
   "metadata": {
    "slideshow": {
     "slide_type": "slide"
    }
   },
   "source": []
  },
  {
   "cell_type": "markdown",
   "metadata": {
    "slideshow": {
     "slide_type": "slide"
    }
   },
   "source": [
    "### Lesson Guide\n",
    "- Welcome and introductions\n",
    "- [Activity: Data Science in the Real World (5 min)](#ds-real-world)\n",
    "- [How to Ask a Question (10 min)](#question)\n",
    "- [Data Science Workflow Through Ames Data (20 min)](#dsfw)\n",
    "- [Summary (5 min)](#summary1)\n",
    "- [Common Machine Learning Definitions (15 min)](#common-ml-defs)\n",
    "- [Activity: Quiz or Group (15 min)](#ml-activity)\n",
    "- [Summary (5 min)](#summary2)\n",
    "- [Course & Project Structure (5 min)](#course-info)\n",
    "\n",
    "- Break (10 min)\n",
    "\n",
    "- Survey (5–10 min)\n",
    "- Common Python Types (10 min)\n",
    "- Common Types Code-Along (20 min)\n",
    "- Common Python Functions and Control Flow (10 min)\n",
    "- Common Python Functions Code-Along (20 min)\n",
    "- Recap and Requests (5–10 min)\n"
   ]
  },
  {
   "cell_type": "markdown",
   "metadata": {
    "slideshow": {
     "slide_type": "slide"
    }
   },
   "source": [
    "## Learning Objectives\n",
    "\n",
    "- Set up and confirm your development environment.\n",
    "- Understand how the course will run\n",
    "- Define the Data Science Workflow and common Machine Learning concepts.\n",
    "- Discuss the topics and goals of our course.\n",
    "- Use types in Python correctly.\n",
    "- Create basic functions in Python."
   ]
  },
  {
   "cell_type": "markdown",
   "metadata": {
    "slideshow": {
     "slide_type": "slide"
    }
   },
   "source": [
    "# Welcome to Data Science at GA!\n",
    "\n",
    "### Instructor: Greg Baker\n",
    "\n",
    "<img src=\"extra-materials/GregB.jpg\" alt=\"Greg Baker\" width=\"180\"/>\n",
    "\n",
    "- runs a consulting company specialising in natural language processing problems \n",
    "- previously worked at Atlassian, Google and CSIRO (where he nearly prevented WiFi from being invented)\n",
    "- studying a PhD at Macquarie University\n",
    "- book author, film music composer \n",
    "- wrote some of the terms of the USA - Australian free trade agreement. \n",
    "- General Assembly's Distinguished Faculty program.\n",
    "- (the photo above is very out-of-date, but my children don't like being photographed)\n",
    "\n"
   ]
  },
  {
   "cell_type": "markdown",
   "metadata": {
    "slideshow": {
     "slide_type": "slide"
    }
   },
   "source": [
    "# Welcome to Data Science at GA!\n",
    "\n",
    "### Teaching Assistant: Prasanth Thangavel\n",
    "\n",
    "<img src=\"extra-materials/PrasanthPhoto.png\" alt=\"Prasanth\" width=\"150\"/>\n",
    "\n",
    "- Phd Scholar (Using AI & ML for detecting brain disorders)\n",
    "- Instructor / TA (Coding, ML, DA, DS)\n",
    "- Co-founder (Chatbot based multi-channel job platform that serves blue-collar job market in SG)"
   ]
  },
  {
   "cell_type": "markdown",
   "metadata": {
    "slideshow": {
     "slide_type": "slide"
    }
   },
   "source": [
    "<a id=\"typical-class\"> </a>\n",
    "# A typical class\n",
    "\n",
    "- IAs put a message in slack asking to confirm attendance\n",
    "- Open question time until about 8:02am IST\n",
    "- Run \"git pull\" because I sometimes make corrections when I check the course content\n",
    "- Overview of lesson objectives\n",
    "- Some motivating problem and data\n",
    "- Code-alongs\n",
    "  - Sometimes I just run some code and discuss it\n",
    "  - Sometimes I pick someone to run some existing code\n",
    "  - Sometimes I pick someone to come up with some code\n",
    "- Usually a little exercise to do on your own during the class\n",
    "- A 15 minute break about half way (9:30am IST); I often use a timer\n",
    "- Finish at 11:00am IST\n",
    "- \"Exit tickets\""
   ]
  },
  {
   "cell_type": "markdown",
   "metadata": {
    "slideshow": {
     "slide_type": "slide"
    }
   },
   "source": [
    "# Schedule\n",
    "\n",
    "\n",
    "_ | Monday | Wednesday \n",
    "---| ---| ---\n",
    "Week 1 | Feb 24 | Feb 26\n",
    "Week 2 | Mar 2 | Mar 4\n",
    "Week 3 | Mar 9 | Mar 11\n",
    "Week 4 | Mar 16 | Mar 18\n",
    "Week 5 | Mar 23 | Mar 25\n",
    "Week 6 | Mar 30 | Apr 1\n",
    "Week 7 | Holiday | Apr 8\n",
    "Week 8 | Apr 13 | Apr 15\n",
    "Week 9 | Apr 20 | Apr 22\n",
    "Week 10 | Apr 27 | Apr 29\n",
    "Week 11 | May 4th |\n",
    "\n",
    "(The last two days are presentation days)"
   ]
  },
  {
   "cell_type": "markdown",
   "metadata": {
    "slideshow": {
     "slide_type": "slide"
    }
   },
   "source": [
    "<a id=\"asking-questions\"> </a>\n",
    "# I have a question / doubt!\n",
    "\n",
    "Many options:\n",
    "\n",
    "- Just ask it out loud; that's normal student behaviour in Australia\n",
    "- Hand-up in the Zoom room\n",
    "- Ask your question in the slack room #ind-datr-2-24\n",
    "  - One of the instructor assistants might answer it there\n",
    "  - They might ask me out loud on your behalf\n",
    "\n"
   ]
  },
  {
   "cell_type": "markdown",
   "metadata": {
    "slideshow": {
     "slide_type": "slide"
    }
   },
   "source": [
    "# Github Enterprise (GHE)\n",
    "\n",
    "- You have already created an account\n",
    "- Share this on slack with Prasanth and we will add you to the team\n",
    "- Run `git clone https://git.generalassemb.ly/dat-ms-feb2020`"
   ]
  },
  {
   "cell_type": "markdown",
   "metadata": {
    "slideshow": {
     "slide_type": "slide"
    }
   },
   "source": [
    "<a id=\"question\"> </a>\n",
    "# What is Data Science?\n",
    "\n",
    "- Being scientific on business data\n",
    "\n",
    "### What does it mean to use a scientific method?\n",
    "\n",
    "Most practitioners apply a version of the scientific method in order to logically deconstruct and analyze an issue. At General Assembly, we call this the data science workflow, which we've broken down into a series of steps.\n",
    "\n",
    "This problem-solving framework will help you produce results that are reliable (so that your findings will be more accurate) and reproducible (so that others can follow your steps and achieve the same results).\n",
    "\n",
    "Note that, depending on the problem, this process is not always linear. You may require lots of iteration and repetition before any conclusions can be drawn!"
   ]
  },
  {
   "cell_type": "markdown",
   "metadata": {
    "slideshow": {
     "slide_type": "slide"
    }
   },
   "source": [
    "### Asking a Good Question\n",
    "\n",
    "**Let's get really scientific for a moment...**\n",
    "\n",
    "A good 'question' is actually a **statement** which:\n",
    "- might be wong\n",
    "- and could be rejected..\n",
    "    - within a certain bounds of confidence\n",
    "\n",
    "Which is a **hypothesis**"
   ]
  },
  {
   "cell_type": "markdown",
   "metadata": {
    "slideshow": {
     "slide_type": "slide"
    }
   },
   "source": [
    "#### What Are Some Common Questions Asked in Data Science?\n",
    "\n",
    "**Machine learning more or less asks the following questions:**\n",
    "\n",
    "- Does X predict Y? (Where X is a set of data and y is an outcome.)\n",
    "- Are there any distinct groups in our data?\n",
    "- What are the key components of our data?\n",
    "- Is one of our observations “weird”?\n",
    "\n",
    "**From a business perspective, we can ask:**\n",
    "\n",
    "- What is the likelihood that a customer will buy this product?\n",
    "- Is this a good or bad review?\n",
    "- How much demand will there be for my service tomorrow?\n",
    "- Is this the cheapest way to deliver my goods?\n",
    "- Is there a better way to segment my marketing strategies?\n",
    "- What groups of products are customers purchasing together?\n",
    "- Can we automate this simple yes/no decision?\n",
    "\n",
    "_This list may seem limited, but we rewrite most questions to fit this form._"
   ]
  },
  {
   "cell_type": "markdown",
   "metadata": {
    "slideshow": {
     "slide_type": "notes"
    }
   },
   "source": []
  },
  {
   "cell_type": "markdown",
   "metadata": {
    "slideshow": {
     "slide_type": "slide"
    }
   },
   "source": [
    "<a id=\"dswf\"></a>\n",
    "## Introduction: The Data Science Workflow\n",
    "\n",
    "---\n",
    "\n",
    "Throughout this course and for our projects, we'll be following a general workflow. This workflow will help you produce *reliable* and *reproducible* results.\n",
    "\n",
    "- **Reliable**: Accurate findings.\n",
    "- **Reproducible**: Others can follow your steps and achieve the same results.\n",
    "### Steps in the Data Science Workflow\n",
    "\n",
    "- **Frame**: Develop a hypothesis-driven approach to your analysis.\n",
    "- **Prepare**: Select, import, explore, and clean your data.\n",
    "- **Analyze**: Structure, visualize, and complete your analysis.\n",
    "- **Interpret**: Derive recommendations and business decisions from your data.\n",
    "- **Communicate**: Present (edited) insights from your data to different audiences.\n",
    "\n",
    "![](./assets/Data-Framework-White-BG.png)"
   ]
  },
  {
   "cell_type": "markdown",
   "metadata": {
    "slideshow": {
     "slide_type": "slide"
    }
   },
   "source": [
    "#### Notes about GA's Data Workflow\n",
    "\n",
    "_Remember, these steps are not hard-set rules; instead, think of them as problem-solving guidelines._\n",
    "\n",
    "\n",
    "- Some projects may not require every step.\n",
    "- These steps are iterative; it's normal to go back and repeat certain steps a few times in a row.\n",
    "- The process is cyclical; after completing the process, you may restart it on new findings."
   ]
  },
  {
   "cell_type": "markdown",
   "metadata": {
    "slideshow": {
     "slide_type": "slide"
    }
   },
   "source": [
    "### Data acquisition\n",
    "\n",
    "---\n",
    "https://www.kaggle.com/mnoori/ames-housing-prices#AmesHousing.txt\n",
    "- **What are some questions we should ask during the acquisition process?**\n",
    "\n",
    "- Our Ames data set contains the following information:\n",
    "    - [Ames Data Set Introduction PDF](./extra-materials/ames.pdf) (from the \"Journal of Statistics Education\")\n",
    "    - \"Data set contains information from the Ames Assessor’s Office used in computing assessed values for individual residential properties sold in Ames, IA from 2006 to 2010.\"\n",
    "\n",
    "### Data Quality\n",
    "\n",
    "---\n",
    "\n",
    "- **What are some questions we should ask when checking the data for quality?**\n",
    "  - [Ames Data Set Documentation](./extra-materials/ames_data_documentation.txt)"
   ]
  },
  {
   "cell_type": "markdown",
   "metadata": {
    "slideshow": {
     "slide_type": "notes"
    }
   },
   "source": []
  },
  {
   "cell_type": "markdown",
   "metadata": {
    "slideshow": {
     "slide_type": "slide"
    }
   },
   "source": [
    "##  Prepare\n",
    "\n",
    "---\n",
    "\n",
    "Often, we are given *secondary data*, or data that were collected previously. In these cases, we have to learn as much as possible about our data using tools like data dictionaries and source documentation to determine how the set was gathered.\n",
    "\n",
    "Here's an example of a data dictionary:\n",
    "\n",
    "Variable | Description | Type of Variable\n",
    "---| ---| ---\n",
    "Square Footage | Floating Point | Continuous\n",
    "Street Type | 1 - Gravel, 2 - Paved | Categorical\n",
    "Neighborhood | String, e.g., 'Tenderloin' | Categorical\n",
    "Number of Bedrooms | Integer | Discrete\n",
    "\n",
    "**Common considerations when preparing our data include:**  \n",
    "\n",
    "- **Ensuring data is clearly defined and structured**\n",
    "- **Check and clean data formatting as needed**\n",
    "\n",
    "**Common considerations for cleaning include**:\n",
    "\n",
    "- **Most data will **not** come perfectly clean and ready to use. Cleaning data is normally the most time-consuming task a data scientist faces.**\n",
    "\n",
    "---\n",
    "\n",
    "As you can see, the \"Prepare\" phase of the data science workflow encompasses several steps: the act of reviewing, indexing, and cleaning your data. This normally consumes a great deal of time!"
   ]
  },
  {
   "cell_type": "markdown",
   "metadata": {
    "slideshow": {
     "slide_type": "notes"
    }
   },
   "source": []
  },
  {
   "cell_type": "markdown",
   "metadata": {
    "slideshow": {
     "slide_type": "slide"
    }
   },
   "source": [
    "## Analyze\n",
    "\n",
    "---\n",
    "\n",
    "As an example of basic statistics, Data scientists often check the mean, standard deviation, or specific frequency counts of their data. Statistics that we might expect for the earlier housing variables include:\n",
    "\n",
    "Variable | Mean or Frequency (%)\n",
    "---| ---\n",
    "Square Footage | 2201.3\n",
    "Street Type - Gravel | 8%\n",
    "Street Type - Paved | 92%\n",
    "Number of Bedrooms | 1.8\n",
    "\n",
    "**What sort of questions do these types of statistics allow us to answer? Why would we do this?**\n",
    "\n",
    "### Creating a Predictive Model \n",
    "\n",
    "We generate predictive models based on the SMART goal we decided upon earlier. Typically, our interest is in predicting or guessing some sort of value we might be interested in (such as the housing price for a house given some set of fixed characteristics). \n",
    "\n",
    "**What are some other business goals we can support as data scientists for this realty company? What are some values we would like to guess?*\n",
    "\n",
    "**What do you think are the steps for model building?**\n",
    "\n",
    "_We'll be spending much of our time in this course on data analysis and predictive modeling._"
   ]
  },
  {
   "cell_type": "markdown",
   "metadata": {
    "slideshow": {
     "slide_type": "notes"
    }
   },
   "source": []
  },
  {
   "cell_type": "markdown",
   "metadata": {
    "slideshow": {
     "slide_type": "slide"
    }
   },
   "source": [
    "## Interpret\n",
    "\n",
    "---\n",
    "\n",
    "### Develop Recommendations and Decisions\n",
    "\n",
    "**Now that you have a model, what are some things you should check?**\n",
    "\n",
    "**Now that you have a model, can you convert your model's finding into a conclusion or next step for your employer?**"
   ]
  },
  {
   "cell_type": "markdown",
   "metadata": {
    "slideshow": {
     "slide_type": "notes"
    }
   },
   "source": [
    ">**Instructor Note:** For things to check after a model, guide students toward the following questions:\n",
    "- Did you reject or fail to reject your hypotheses?\n",
    "    - What does this mean for your project?\n",
    "    - What does this mean for your client?\n",
    "- Were your questions answered?\n",
    "    - Which ones?\n",
    "    - What do you need to do to answer the ones that weren't?\n",
    "- Do your findings support any business recommendations, actions, or decisions?\n",
    "    - Is there further supportive analysis?\n",
    "    - How do your data support these recommendations?\n",
    "    \n",
    ">**Instructor Note:** For the **Communication** phase, guide students toward the following questions:\n",
    "- Reaching a conclusion:\n",
    "    - Seek guidance/interaction with subject matter experts (SMEs).\n",
    "    - If those are not available, check with the data — are you coming to reasonable conclusions and predictions given what you've seen?\n",
    "    - Do the next steps that you envision have any dependencies or corollary steps?\n",
    "- What are some conclusions you can draw?\n",
    "    - Conclusion: \"Customers from large companies were twice as likely to place another order with Planet Express than customers from small companies.\"\n",
    "    - Recommendation:  \"We should target more large companies to use our delivery service.\"\n",
    "    - Conclusion: \"Other than size of company, I found no significant evidence that any other feature affected the odds of customers reusing our delivery service.\""
   ]
  },
  {
   "cell_type": "markdown",
   "metadata": {
    "slideshow": {
     "slide_type": "slide"
    }
   },
   "source": [
    "## Communicate\n",
    "\n",
    "---\n",
    "\n",
    "#### Share the Results of Your Analysis  \n",
    "\n",
    "Presentations are a critical part of your analysis. It doesn't matter how brilliant your model is or how illuminating your findings are — without effective communication, your work will not be used.\n",
    "\n",
    "The most basic form of a data science presentation should include a simple sentence that describes your results:\n",
    "\n",
    "_\"Customers from large companies had twice (CI 1.9, 2.1) the odds for placing another order with Planet Express compared to customers from small companies.\"_\n",
    "\n",
    "Data science presentations can also be far more complex and exciting, like some of the [research presented by Nate Silver's FiveThirtyEight blog](http://fivethirtyeight.com/burrito/#brackets-view).\n",
    "\n",
    "When crafting a presentation, always consider your audience and make sure to practice your presentation beforehand. Consider the types of questions people might ask or — better yet — test your presentation on a few people and pay attention to their response. Clarify and refine your presentation accordingly.\n"
   ]
  },
  {
   "cell_type": "markdown",
   "metadata": {
    "slideshow": {
     "slide_type": "slide"
    }
   },
   "source": [
    "**A Note About Iteration**\n",
    "\n",
    "Iteration is an important part of *every step* in the data science workflow. At any given point in the process, you may find yourself repeating or going back and redoing steps in order to better understand your data, clarify your model, and refine your presentation.\n",
    "\n",
    "**What are some things you may want to redo or iterate over after presenting your findings?**"
   ]
  },
  {
   "cell_type": "markdown",
   "metadata": {
    "slideshow": {
     "slide_type": "notes"
    }
   },
   "source": []
  },
  {
   "cell_type": "markdown",
   "metadata": {
    "slideshow": {
     "slide_type": "slide"
    }
   },
   "source": [
    "<a id=\"summary1\"></a>\n",
    "# Summary\n",
    "\n",
    "---\n",
    "\n",
    "1) **Crafting good questions is key.** <br>\n",
    "  - Without a thoughtful, targeted, and SMART question, it can be difficult to create an effective model.\n",
    "2) **Use the data science workflow to iteratively develop solutions.** <br>\n",
    "  - **Frame**: Develop a hypothesis-driven approach to your analysis.\n",
    "  - **Prepare**: Select, import, explore, and clean your data.\n",
    "  - **Analyze**: Structure, visualize, and complete your analysis.\n",
    "  - **Interpret**: Derive recommendations and business decisions from your data.\n",
    "  - **Communicate**: Present (edited) insights from your data to different audiences.\n",
    "3) **Informed by your past work, continue to refine your findings and models.** <br>\n",
    "  - While the data science workflow may appear to be linear, we consistently return to past steps to implement new findings"
   ]
  },
  {
   "cell_type": "markdown",
   "metadata": {
    "slideshow": {
     "slide_type": "slide"
    }
   },
   "source": [
    "<a id=\"ML\"></a>\n",
    "\n",
    "## Introduction: Machine Learning\n",
    "\n",
    "---\n"
   ]
  },
  {
   "cell_type": "markdown",
   "metadata": {
    "slideshow": {
     "slide_type": "subslide"
    }
   },
   "source": [
    "## Examples of Machine Learning"
   ]
  },
  {
   "cell_type": "markdown",
   "metadata": {
    "slideshow": {
     "slide_type": "notes"
    }
   },
   "source": []
  },
  {
   "cell_type": "markdown",
   "metadata": {
    "slideshow": {
     "slide_type": "slide"
    }
   },
   "source": [
    "<a id=\"common-ml-defs\"> </a>\n",
    "## Common Machine Learning Definitions\n",
    "\n",
    "There are two main categories of machine learning: supervised learning and unsupervised learning.\n",
    "\n",
    "**Supervised learning (a.k.a., “predictive modeling”):**  \n",
    "_Classification and regression_\n",
    "- Predicts an outcome based on input data.\n",
    "    - Example: Predicts whether an email is spam or ham.\n",
    "- Attempts to generalize.\n",
    "- Requires past data on the element we want to predict (the target).\n",
    "\n",
    "**Unsupervised learning:**  \n",
    "_Clustering and dimensionality reduction_\n",
    "- Extracts structure from data.\n",
    "    - Example: Segmenting grocery store shoppers into “clusters” that exhibit similar behaviors.\n",
    "- Attempts to represent.\n",
    "- **Does not require** past data on the element we want to predict.\n",
    "\n",
    "**HOT TIP: Stick with supervised where possible!!**"
   ]
  },
  {
   "cell_type": "markdown",
   "metadata": {
    "slideshow": {
     "slide_type": "slide"
    }
   },
   "source": [
    "<a id=\"supervised\"></a>\n",
    "### Supervised Learning\n",
    "\n",
    "Supervised learning tends to be the most frequent type of work that data scientists do and will be the main focus of this course. How does supervised learning work?\n",
    "\n",
    "1) We train a **machine learning model** (more on that shortly) using **labeled data** (the \"response\" label from earlier). <br>\n",
    "    - The “machine learning model” learns some kind of relationship between the features and the response.\n",
    "\n",
    "2) We make predictions on **new data** for which the response is unknown. <br>\n",
    "\n",
    "The primary goal of supervised learning is to build a model that “generalizes” — i.e., accurately predicts the **future** rather than the **past**!"
   ]
  },
  {
   "cell_type": "markdown",
   "metadata": {
    "slideshow": {
     "slide_type": "slide"
    }
   },
   "source": [
    "### Practice: Classification vs. Regression\n",
    "\n",
    "There are two categories of supervised learning:\n",
    "\n",
    "**Regression**\n",
    "- The outcome we are trying to predict is a continuous value.\n",
    "    - **Can you think of anything we would want to predict like this?** \n",
    "\n",
    "**Classification**\n",
    "- The outcome we are trying to predict is categorical (i.e., it comes in one of a set number of classes).\n",
    "    - **Can you think of anything that we would want to predict like this?**\n",
    "\n",
    "The type of supervised learning problem has nothing to do with the features; only the response matters!"
   ]
  },
  {
   "cell_type": "markdown",
   "metadata": {
    "slideshow": {
     "slide_type": "notes"
    }
   },
   "source": [
    ">**Instructor Note:** Examples of regression targets include price, blood pressure, temperature, etc.\n",
    "\n",
    ">**Instructor Note:** Examples of classification include spam/ham, cancer class of tissue sample, etc."
   ]
  },
  {
   "cell_type": "markdown",
   "metadata": {
    "slideshow": {
     "slide_type": "slide"
    }
   },
   "source": [
    "## Unsupervised Learning\n",
    "\n",
    "#### Common Types of Unsupervised Learning\n",
    "\n",
    "- **Clustering:** Groups “similar” data points together.\n",
    "- **Dimensionality reduction:** Reduce the dimensionality of a data set by extracting features that capture most of the variance in the data."
   ]
  },
  {
   "cell_type": "markdown",
   "metadata": {
    "slideshow": {
     "slide_type": "slide"
    }
   },
   "source": [
    "**Steps for Clustering**\n",
    "\n",
    "Imagine that we had a bunch of coins we wanted to automatically split into groups. An unsupervised learning technique would involve the following steps:\n",
    "\n",
    "1) Clustering the coins based on “similarity\" — this could be through the size, the material, or the language on the coins. <br>\n",
    "2) Inspecting the grouping that the algorithm found. <br>\n",
    "\n",
    "Hopefully this would put the coins into sets of related groups.\n",
    "\n"
   ]
  },
  {
   "cell_type": "markdown",
   "metadata": {
    "slideshow": {
     "slide_type": "slide"
    }
   },
   "source": [
    "**Steps for Dimensionality Reduction**\n",
    "\n",
    "Imagine that we had a huge amount of features related to those coins — country of origin, size, weight, mass, density, condition, chemical makeup, etc. Moreover, say that we had thousands or (in some cases, millions) of different features. Not all of these features are helpful, however! Unsupervised learning can help us by grouping features together automatically. It would involve the following:\n",
    "\n",
    "1) The unsupervised learning technique groups or combines features that are similar or do the same thing into a smaller set, leading to a set of new features that's smaller in size. <br>\n",
    "\n",
    "Hopefully, the algorithm would recognize something like.\n",
    "\n",
    "$$\\dfrac {mass} {size} = density$$\n",
    "\n",
    "Here, density could take the place of two different features from before. \n",
    "\n",
    "Sometimes unsupervised learning is used as a “preprocessing” step for supervised learning. (Can you guess how?)"
   ]
  },
  {
   "cell_type": "markdown",
   "metadata": {
    "slideshow": {
     "slide_type": "notes"
    }
   },
   "source": []
  },
  {
   "cell_type": "markdown",
   "metadata": {
    "slideshow": {
     "slide_type": "slide"
    }
   },
   "source": [
    "### Examples\n",
    "\n",
    "**Supervised Learning: Coin Classifier**\n",
    "\n",
    "- **Observations:** Coins.\n",
    "- **Features:** Size and mass.\n",
    "- **Response or target variable:** Hand-labeled coin type.\n",
    "\n",
    "- Train a machine learning model using labeled data.\n",
    "    - The model learns the relationship between the features and the coin type.\n",
    "\n",
    "- Make predictions on new data for which the response is unknown.\n",
    "    - Give the model a new coin and it will predict the coin type automatically.\n",
    "    \n",
    "**Unsupervised Learning: Types of Customers at a Bar**\n",
    "\n",
    "- **Observations:** Customers.\n",
    "- **Features:** Drink purchases, people they interact with, etc.\n",
    "- **Response or target variable:** There isn’t one — instead, we group similar customers together."
   ]
  },
  {
   "cell_type": "markdown",
   "metadata": {
    "slideshow": {
     "slide_type": "slide"
    }
   },
   "source": [
    "<a id = 'algorithm'></a>\n",
    "\n",
    "## Algorithms\n",
    "\n",
    "Regardless of whether it's supervised or unsupervised, the underlying engine driving a machine learning model is an algorithm. These algorithms are used to help identify trends, represent said trends, and explain the overall variance of the data.   \n",
    "\n",
    "Let's say we are a real estate agent looking to price a house using only its square footage. We know there are other features that can highly influence this outcome, but we are only focusing on square footage for now. We know that, as square footage increases, so does price. At this point, you may be thinking that a simple algebra equation could be useful; one that helps us price the house by its square footage.  \n",
    "\n",
    "Recently, we sold a house whose square footage was 2,500 for about \\$285,000. If we apply this information to a normal linear equation — $ Y = mx + b$ — we can create a simple _algorithm_ to help us predict a house.\n",
    "\n",
    "$$285,000 = 2,500x + b$$\n",
    "\n",
    "$$ x = 114, b = 0 $$ \n",
    "\n",
    "_The Y intercept has been omitted for this example._\n",
    "\n",
    "#### Final Algorithm\n",
    "\n",
    "$$ Price = 114x $$\n",
    "\n"
   ]
  },
  {
   "cell_type": "markdown",
   "metadata": {
    "slideshow": {
     "slide_type": "slide"
    }
   },
   "source": [
    "## Algorithms ...\n",
    "\n",
    "#### Final Algorithm\n",
    "$$ Price = 114x $$\n",
    "\n",
    "This is an example of a model built with the intent of predicting price. The algorithm is simple and built off of limited information. Typically, our models will be more complex, and we'll consider a greater amount of prior data to help us develop a final algorithm.  \n",
    "\n",
    "#### Algorithm Training \n",
    "\n",
    "In our example, we used previously known information to find our coefficients. This action is also referred to as \"training.\" But, let's make something clear:\n",
    "\n",
    "- Model building would be the task of constructing an actual algorithm.\n",
    "    - This is the linear model of $ Y = mx + b $.\n",
    "- Training involves figuring out the coefficient and the Y intercept the model uses for _our intended purpose_.  \n",
    "    - The coefficients uncovered via training were $m= 114$ and $b=0$.\n"
   ]
  },
  {
   "cell_type": "markdown",
   "metadata": {
    "slideshow": {
     "slide_type": "slide"
    }
   },
   "source": [
    "<a id=\"conclusion2\"></a>\n",
    "## Conclusion\n",
    "\n",
    "---\n",
    "\n",
    "Check to see if you can answer the following questions easily:\n",
    "\n",
    "- What is data science?\n",
    "- What is the data science workflow?\n",
    "- What is the difference between supervised and unsupervised learning?\n",
    "- What is the difference between regression and classification? \n",
    "- What is an algorithm?"
   ]
  },
  {
   "cell_type": "markdown",
   "metadata": {
    "slideshow": {
     "slide_type": "slide"
    }
   },
   "source": [
    "<a id=\"course-info\"> </a>\n",
    "# Course Information\n",
    "    \n",
    "### GA offers a special learning environment.\n",
    "\n",
    "- What you should know: GA is a global community of individuals and organizations empowered to pursue the work we love.\n",
    "- Who we are: Meet your instructional team.\n",
    "- How to provide feedback: exit tickets, mid-course survey, and end-of-course survey. We want to hear from you!"
   ]
  },
  {
   "cell_type": "markdown",
   "metadata": {
    "slideshow": {
     "slide_type": "slide"
    }
   },
   "source": [
    "### Road to Success\n",
    "\n",
    "- The emotional cycle of change: This course is fast and covers a lot of material. There will be times when you may feel discouraged or overwhelmed, but don't give up - this is natural (and part of the design). By the end of the course, you'll feel more confident in your ability to define problems, analyze data, and prototype solutions. \n",
    "- Student learning responsibility: Our lessons cover topic foundations, but there is always more to learn! You are responsible for your learning experience - but don't get overwhelmed! Instead, just make sure you follow along, practice as much as possible, and ask questions.\n",
    "- GA requirements: Show up. Be on time. Participate. Submit your projects. Allow yourself to struggle. Read the docs. Have fun!\n",
    "- Q/A.\n"
   ]
  },
  {
   "cell_type": "markdown",
   "metadata": {
    "slideshow": {
     "slide_type": "slide"
    }
   },
   "source": [
    "### Course Outline and Project Due Dates\n",
    "\n",
    "General Assembly's part-time Data Science materials are organized into **four** units.\n",
    "\n",
    "| Unit   | Title  | Topics Covered  | Length | \n",
    "| ---    | ---    |  ---     | ---    |\n",
    "| Unit 1 | Foundations       | Python Syntax, Development Environment | Lessons 1–4 |\n",
    "| Unit 2 | Working with Data | Stats Review, Visualization, & EDA     | Lessons 5–9  | \n",
    "| Unit 3 | Data Modeling     | Regression, Classification, & KNN      | Lessons 10–14  | \n",
    "| Unit 4 | Applications      | Decision Trees, NLP, & Flex Topics     | Lessons 15–19  | "
   ]
  },
  {
   "cell_type": "markdown",
   "metadata": {
    "slideshow": {
     "slide_type": "notes"
    }
   },
   "source": [
    "> **Instructor Note:** If there is time, briefly walk through the entire `course-info` repository with your students. If not, refer them to it for class information."
   ]
  }
 ],
 "metadata": {
  "celltoolbar": "Slideshow",
  "kernelspec": {
   "display_name": "Python 3",
   "language": "python",
   "name": "python3"
  },
  "language_info": {
   "codemirror_mode": {
    "name": "ipython",
    "version": 3
   },
   "file_extension": ".py",
   "mimetype": "text/x-python",
   "name": "python",
   "nbconvert_exporter": "python",
   "pygments_lexer": "ipython3",
   "version": "3.7.5"
  }
 },
 "nbformat": 4,
 "nbformat_minor": 2
}
